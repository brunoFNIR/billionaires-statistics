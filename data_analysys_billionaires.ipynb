{
  "nbformat": 4,
  "nbformat_minor": 0,
  "metadata": {
    "colab": {
      "provenance": [],
      "toc_visible": true,
      "authorship_tag": "ABX9TyNK/iG4Uyzlpcb/qxgH4Z3N",
      "include_colab_link": true
    },
    "kernelspec": {
      "name": "python3",
      "display_name": "Python 3"
    },
    "language_info": {
      "name": "python"
    }
  },
  "cells": [
    {
      "cell_type": "markdown",
      "metadata": {
        "id": "view-in-github",
        "colab_type": "text"
      },
      "source": [
        "<a href=\"https://colab.research.google.com/github/brunoFNIR/billionaires-statistics/blob/main/data_analysys_billionaires.ipynb\" target=\"_parent\"><img src=\"https://colab.research.google.com/assets/colab-badge.svg\" alt=\"Open In Colab\"/></a>"
      ]
    },
    {
      "cell_type": "code",
      "execution_count": 1,
      "metadata": {
        "id": "cusQ4sai2CQT"
      },
      "outputs": [],
      "source": [
        "import pandas as pd\n",
        "import numpy as np\n",
        "import os\n",
        "import matplotlib.pyplot as plt\n",
        "import seaborn as sns\n",
        "from zipfile import ZipFile\n",
        "import requests\n",
        "import io\n",
        "import chardet"
      ]
    },
    {
      "cell_type": "code",
      "source": [
        "# load data from drive\n",
        "url = 'raw.githubusercontent.com'\n",
        "username = 'brunoFNIR'\n",
        "repository = 'billionaires-statistics'\n",
        "file_name = 'archive.zip'\n",
        "\n",
        "path = f'https://{url}/{username}/{repository}/main/Downloads/{file_name}'"
      ],
      "metadata": {
        "id": "wTy89TD44iv8"
      },
      "execution_count": 2,
      "outputs": []
    },
    {
      "cell_type": "code",
      "source": [
        "# Download the zip file content\n",
        "response = requests.get(path)\n",
        "response.raise_for_status()  # Raise an exception for bad responses\n",
        "\n",
        "# Open the zip file in memory using BytesIO\n",
        "with io.BytesIO(response.content) as zip_file_memory: # Create a file-like object in memory\n",
        "    with ZipFile(zip_file_memory, 'r') as zipObj: # Open the zip file from memory\n",
        "        zipObj.extractall() # Extract all files"
      ],
      "metadata": {
        "id": "nKBgmu0_2jsj"
      },
      "execution_count": 3,
      "outputs": []
    },
    {
      "cell_type": "code",
      "source": [
        "#avoid encoding issues\n",
        "with open('Billionaires Statistics Dataset.csv', 'rb') as rawdata:\n",
        "    result = chardet.detect(rawdata.read(100000))\n",
        "df = pd.read_csv('Billionaires Statistics Dataset.csv', encoding=result['encoding'])"
      ],
      "metadata": {
        "id": "zQnXGlqg25sz"
      },
      "execution_count": 4,
      "outputs": []
    },
    {
      "cell_type": "code",
      "source": [
        "df.info()"
      ],
      "metadata": {
        "id": "I1Nmbhoj3Uxc",
        "colab": {
          "base_uri": "https://localhost:8080/"
        },
        "outputId": "7f99575d-f06e-4ada-e4f4-2cd26ca19e11"
      },
      "execution_count": 5,
      "outputs": [
        {
          "output_type": "stream",
          "name": "stdout",
          "text": [
            "<class 'pandas.core.frame.DataFrame'>\n",
            "RangeIndex: 2640 entries, 0 to 2639\n",
            "Data columns (total 35 columns):\n",
            " #   Column                                      Non-Null Count  Dtype  \n",
            "---  ------                                      --------------  -----  \n",
            " 0   rank                                        2640 non-null   int64  \n",
            " 1   finalWorth                                  2640 non-null   int64  \n",
            " 2   category                                    2640 non-null   object \n",
            " 3   personName                                  2640 non-null   object \n",
            " 4   age                                         2575 non-null   float64\n",
            " 5   country                                     2602 non-null   object \n",
            " 6   city                                        2568 non-null   object \n",
            " 7   source                                      2640 non-null   object \n",
            " 8   industries                                  2640 non-null   object \n",
            " 9   countryOfCitizenship                        2640 non-null   object \n",
            " 10  organization                                325 non-null    object \n",
            " 11  selfMade                                    2640 non-null   bool   \n",
            " 12  status                                      2640 non-null   object \n",
            " 13  gender                                      2640 non-null   object \n",
            " 14  birthDate                                   2564 non-null   object \n",
            " 15  lastName                                    2640 non-null   object \n",
            " 16  firstName                                   2637 non-null   object \n",
            " 17  title                                       339 non-null    object \n",
            " 18  date                                        2640 non-null   object \n",
            " 19  state                                       753 non-null    object \n",
            " 20  residenceStateRegion                        747 non-null    object \n",
            " 21  birthYear                                   2564 non-null   float64\n",
            " 22  birthMonth                                  2564 non-null   float64\n",
            " 23  birthDay                                    2564 non-null   float64\n",
            " 24  cpi_country                                 2456 non-null   float64\n",
            " 25  cpi_change_country                          2456 non-null   float64\n",
            " 26  gdp_country                                 2476 non-null   object \n",
            " 27  gross_tertiary_education_enrollment         2458 non-null   float64\n",
            " 28  gross_primary_education_enrollment_country  2459 non-null   float64\n",
            " 29  life_expectancy_country                     2458 non-null   float64\n",
            " 30  tax_revenue_country_country                 2457 non-null   float64\n",
            " 31  total_tax_rate_country                      2458 non-null   float64\n",
            " 32  population_country                          2476 non-null   float64\n",
            " 33  latitude_country                            2476 non-null   float64\n",
            " 34  longitude_country                           2476 non-null   float64\n",
            "dtypes: bool(1), float64(14), int64(2), object(18)\n",
            "memory usage: 704.0+ KB\n"
          ]
        }
      ]
    },
    {
      "cell_type": "code",
      "source": [
        "df.head()"
      ],
      "metadata": {
        "id": "jf-voCrA3X3q",
        "colab": {
          "base_uri": "https://localhost:8080/",
          "height": 360
        },
        "outputId": "e76ff4c8-bdf0-465d-bd0f-56d4ee868f30"
      },
      "execution_count": 6,
      "outputs": [
        {
          "output_type": "execute_result",
          "data": {
            "text/plain": [
              "   rank  finalWorth               category                personName   age  \\\n",
              "0     1      211000       Fashion & Retail  Bernard Arnault & family  74.0   \n",
              "1     2      180000             Automotive                 Elon Musk  51.0   \n",
              "2     3      114000             Technology                Jeff Bezos  59.0   \n",
              "3     4      107000             Technology             Larry Ellison  78.0   \n",
              "4     5      106000  Finance & Investments            Warren Buffett  92.0   \n",
              "\n",
              "         country    city              source             industries  \\\n",
              "0         France   Paris                LVMH       Fashion & Retail   \n",
              "1  United States  Austin       Tesla, SpaceX             Automotive   \n",
              "2  United States  Medina              Amazon             Technology   \n",
              "3  United States   Lanai              Oracle             Technology   \n",
              "4  United States   Omaha  Berkshire Hathaway  Finance & Investments   \n",
              "\n",
              "  countryOfCitizenship  ... cpi_change_country           gdp_country  \\\n",
              "0               France  ...                1.1   $2,715,518,274,227    \n",
              "1        United States  ...                7.5  $21,427,700,000,000    \n",
              "2        United States  ...                7.5  $21,427,700,000,000    \n",
              "3        United States  ...                7.5  $21,427,700,000,000    \n",
              "4        United States  ...                7.5  $21,427,700,000,000    \n",
              "\n",
              "  gross_tertiary_education_enrollment  \\\n",
              "0                                65.6   \n",
              "1                                88.2   \n",
              "2                                88.2   \n",
              "3                                88.2   \n",
              "4                                88.2   \n",
              "\n",
              "  gross_primary_education_enrollment_country life_expectancy_country  \\\n",
              "0                                      102.5                    82.5   \n",
              "1                                      101.8                    78.5   \n",
              "2                                      101.8                    78.5   \n",
              "3                                      101.8                    78.5   \n",
              "4                                      101.8                    78.5   \n",
              "\n",
              "  tax_revenue_country_country total_tax_rate_country population_country  \\\n",
              "0                        24.2                   60.7         67059887.0   \n",
              "1                         9.6                   36.6        328239523.0   \n",
              "2                         9.6                   36.6        328239523.0   \n",
              "3                         9.6                   36.6        328239523.0   \n",
              "4                         9.6                   36.6        328239523.0   \n",
              "\n",
              "  latitude_country longitude_country  \n",
              "0        46.227638          2.213749  \n",
              "1        37.090240        -95.712891  \n",
              "2        37.090240        -95.712891  \n",
              "3        37.090240        -95.712891  \n",
              "4        37.090240        -95.712891  \n",
              "\n",
              "[5 rows x 35 columns]"
            ],
            "text/html": [
              "\n",
              "  <div id=\"df-4e57fb39-fe18-4bc6-93ee-9db2c52fd84d\" class=\"colab-df-container\">\n",
              "    <div>\n",
              "<style scoped>\n",
              "    .dataframe tbody tr th:only-of-type {\n",
              "        vertical-align: middle;\n",
              "    }\n",
              "\n",
              "    .dataframe tbody tr th {\n",
              "        vertical-align: top;\n",
              "    }\n",
              "\n",
              "    .dataframe thead th {\n",
              "        text-align: right;\n",
              "    }\n",
              "</style>\n",
              "<table border=\"1\" class=\"dataframe\">\n",
              "  <thead>\n",
              "    <tr style=\"text-align: right;\">\n",
              "      <th></th>\n",
              "      <th>rank</th>\n",
              "      <th>finalWorth</th>\n",
              "      <th>category</th>\n",
              "      <th>personName</th>\n",
              "      <th>age</th>\n",
              "      <th>country</th>\n",
              "      <th>city</th>\n",
              "      <th>source</th>\n",
              "      <th>industries</th>\n",
              "      <th>countryOfCitizenship</th>\n",
              "      <th>...</th>\n",
              "      <th>cpi_change_country</th>\n",
              "      <th>gdp_country</th>\n",
              "      <th>gross_tertiary_education_enrollment</th>\n",
              "      <th>gross_primary_education_enrollment_country</th>\n",
              "      <th>life_expectancy_country</th>\n",
              "      <th>tax_revenue_country_country</th>\n",
              "      <th>total_tax_rate_country</th>\n",
              "      <th>population_country</th>\n",
              "      <th>latitude_country</th>\n",
              "      <th>longitude_country</th>\n",
              "    </tr>\n",
              "  </thead>\n",
              "  <tbody>\n",
              "    <tr>\n",
              "      <th>0</th>\n",
              "      <td>1</td>\n",
              "      <td>211000</td>\n",
              "      <td>Fashion &amp; Retail</td>\n",
              "      <td>Bernard Arnault &amp; family</td>\n",
              "      <td>74.0</td>\n",
              "      <td>France</td>\n",
              "      <td>Paris</td>\n",
              "      <td>LVMH</td>\n",
              "      <td>Fashion &amp; Retail</td>\n",
              "      <td>France</td>\n",
              "      <td>...</td>\n",
              "      <td>1.1</td>\n",
              "      <td>$2,715,518,274,227</td>\n",
              "      <td>65.6</td>\n",
              "      <td>102.5</td>\n",
              "      <td>82.5</td>\n",
              "      <td>24.2</td>\n",
              "      <td>60.7</td>\n",
              "      <td>67059887.0</td>\n",
              "      <td>46.227638</td>\n",
              "      <td>2.213749</td>\n",
              "    </tr>\n",
              "    <tr>\n",
              "      <th>1</th>\n",
              "      <td>2</td>\n",
              "      <td>180000</td>\n",
              "      <td>Automotive</td>\n",
              "      <td>Elon Musk</td>\n",
              "      <td>51.0</td>\n",
              "      <td>United States</td>\n",
              "      <td>Austin</td>\n",
              "      <td>Tesla, SpaceX</td>\n",
              "      <td>Automotive</td>\n",
              "      <td>United States</td>\n",
              "      <td>...</td>\n",
              "      <td>7.5</td>\n",
              "      <td>$21,427,700,000,000</td>\n",
              "      <td>88.2</td>\n",
              "      <td>101.8</td>\n",
              "      <td>78.5</td>\n",
              "      <td>9.6</td>\n",
              "      <td>36.6</td>\n",
              "      <td>328239523.0</td>\n",
              "      <td>37.090240</td>\n",
              "      <td>-95.712891</td>\n",
              "    </tr>\n",
              "    <tr>\n",
              "      <th>2</th>\n",
              "      <td>3</td>\n",
              "      <td>114000</td>\n",
              "      <td>Technology</td>\n",
              "      <td>Jeff Bezos</td>\n",
              "      <td>59.0</td>\n",
              "      <td>United States</td>\n",
              "      <td>Medina</td>\n",
              "      <td>Amazon</td>\n",
              "      <td>Technology</td>\n",
              "      <td>United States</td>\n",
              "      <td>...</td>\n",
              "      <td>7.5</td>\n",
              "      <td>$21,427,700,000,000</td>\n",
              "      <td>88.2</td>\n",
              "      <td>101.8</td>\n",
              "      <td>78.5</td>\n",
              "      <td>9.6</td>\n",
              "      <td>36.6</td>\n",
              "      <td>328239523.0</td>\n",
              "      <td>37.090240</td>\n",
              "      <td>-95.712891</td>\n",
              "    </tr>\n",
              "    <tr>\n",
              "      <th>3</th>\n",
              "      <td>4</td>\n",
              "      <td>107000</td>\n",
              "      <td>Technology</td>\n",
              "      <td>Larry Ellison</td>\n",
              "      <td>78.0</td>\n",
              "      <td>United States</td>\n",
              "      <td>Lanai</td>\n",
              "      <td>Oracle</td>\n",
              "      <td>Technology</td>\n",
              "      <td>United States</td>\n",
              "      <td>...</td>\n",
              "      <td>7.5</td>\n",
              "      <td>$21,427,700,000,000</td>\n",
              "      <td>88.2</td>\n",
              "      <td>101.8</td>\n",
              "      <td>78.5</td>\n",
              "      <td>9.6</td>\n",
              "      <td>36.6</td>\n",
              "      <td>328239523.0</td>\n",
              "      <td>37.090240</td>\n",
              "      <td>-95.712891</td>\n",
              "    </tr>\n",
              "    <tr>\n",
              "      <th>4</th>\n",
              "      <td>5</td>\n",
              "      <td>106000</td>\n",
              "      <td>Finance &amp; Investments</td>\n",
              "      <td>Warren Buffett</td>\n",
              "      <td>92.0</td>\n",
              "      <td>United States</td>\n",
              "      <td>Omaha</td>\n",
              "      <td>Berkshire Hathaway</td>\n",
              "      <td>Finance &amp; Investments</td>\n",
              "      <td>United States</td>\n",
              "      <td>...</td>\n",
              "      <td>7.5</td>\n",
              "      <td>$21,427,700,000,000</td>\n",
              "      <td>88.2</td>\n",
              "      <td>101.8</td>\n",
              "      <td>78.5</td>\n",
              "      <td>9.6</td>\n",
              "      <td>36.6</td>\n",
              "      <td>328239523.0</td>\n",
              "      <td>37.090240</td>\n",
              "      <td>-95.712891</td>\n",
              "    </tr>\n",
              "  </tbody>\n",
              "</table>\n",
              "<p>5 rows × 35 columns</p>\n",
              "</div>\n",
              "    <div class=\"colab-df-buttons\">\n",
              "\n",
              "  <div class=\"colab-df-container\">\n",
              "    <button class=\"colab-df-convert\" onclick=\"convertToInteractive('df-4e57fb39-fe18-4bc6-93ee-9db2c52fd84d')\"\n",
              "            title=\"Convert this dataframe to an interactive table.\"\n",
              "            style=\"display:none;\">\n",
              "\n",
              "  <svg xmlns=\"http://www.w3.org/2000/svg\" height=\"24px\" viewBox=\"0 -960 960 960\">\n",
              "    <path d=\"M120-120v-720h720v720H120Zm60-500h600v-160H180v160Zm220 220h160v-160H400v160Zm0 220h160v-160H400v160ZM180-400h160v-160H180v160Zm440 0h160v-160H620v160ZM180-180h160v-160H180v160Zm440 0h160v-160H620v160Z\"/>\n",
              "  </svg>\n",
              "    </button>\n",
              "\n",
              "  <style>\n",
              "    .colab-df-container {\n",
              "      display:flex;\n",
              "      gap: 12px;\n",
              "    }\n",
              "\n",
              "    .colab-df-convert {\n",
              "      background-color: #E8F0FE;\n",
              "      border: none;\n",
              "      border-radius: 50%;\n",
              "      cursor: pointer;\n",
              "      display: none;\n",
              "      fill: #1967D2;\n",
              "      height: 32px;\n",
              "      padding: 0 0 0 0;\n",
              "      width: 32px;\n",
              "    }\n",
              "\n",
              "    .colab-df-convert:hover {\n",
              "      background-color: #E2EBFA;\n",
              "      box-shadow: 0px 1px 2px rgba(60, 64, 67, 0.3), 0px 1px 3px 1px rgba(60, 64, 67, 0.15);\n",
              "      fill: #174EA6;\n",
              "    }\n",
              "\n",
              "    .colab-df-buttons div {\n",
              "      margin-bottom: 4px;\n",
              "    }\n",
              "\n",
              "    [theme=dark] .colab-df-convert {\n",
              "      background-color: #3B4455;\n",
              "      fill: #D2E3FC;\n",
              "    }\n",
              "\n",
              "    [theme=dark] .colab-df-convert:hover {\n",
              "      background-color: #434B5C;\n",
              "      box-shadow: 0px 1px 3px 1px rgba(0, 0, 0, 0.15);\n",
              "      filter: drop-shadow(0px 1px 2px rgba(0, 0, 0, 0.3));\n",
              "      fill: #FFFFFF;\n",
              "    }\n",
              "  </style>\n",
              "\n",
              "    <script>\n",
              "      const buttonEl =\n",
              "        document.querySelector('#df-4e57fb39-fe18-4bc6-93ee-9db2c52fd84d button.colab-df-convert');\n",
              "      buttonEl.style.display =\n",
              "        google.colab.kernel.accessAllowed ? 'block' : 'none';\n",
              "\n",
              "      async function convertToInteractive(key) {\n",
              "        const element = document.querySelector('#df-4e57fb39-fe18-4bc6-93ee-9db2c52fd84d');\n",
              "        const dataTable =\n",
              "          await google.colab.kernel.invokeFunction('convertToInteractive',\n",
              "                                                    [key], {});\n",
              "        if (!dataTable) return;\n",
              "\n",
              "        const docLinkHtml = 'Like what you see? Visit the ' +\n",
              "          '<a target=\"_blank\" href=https://colab.research.google.com/notebooks/data_table.ipynb>data table notebook</a>'\n",
              "          + ' to learn more about interactive tables.';\n",
              "        element.innerHTML = '';\n",
              "        dataTable['output_type'] = 'display_data';\n",
              "        await google.colab.output.renderOutput(dataTable, element);\n",
              "        const docLink = document.createElement('div');\n",
              "        docLink.innerHTML = docLinkHtml;\n",
              "        element.appendChild(docLink);\n",
              "      }\n",
              "    </script>\n",
              "  </div>\n",
              "\n",
              "\n",
              "<div id=\"df-0cadac45-5fbf-4236-9cad-b7e68a6d44dd\">\n",
              "  <button class=\"colab-df-quickchart\" onclick=\"quickchart('df-0cadac45-5fbf-4236-9cad-b7e68a6d44dd')\"\n",
              "            title=\"Suggest charts\"\n",
              "            style=\"display:none;\">\n",
              "\n",
              "<svg xmlns=\"http://www.w3.org/2000/svg\" height=\"24px\"viewBox=\"0 0 24 24\"\n",
              "     width=\"24px\">\n",
              "    <g>\n",
              "        <path d=\"M19 3H5c-1.1 0-2 .9-2 2v14c0 1.1.9 2 2 2h14c1.1 0 2-.9 2-2V5c0-1.1-.9-2-2-2zM9 17H7v-7h2v7zm4 0h-2V7h2v10zm4 0h-2v-4h2v4z\"/>\n",
              "    </g>\n",
              "</svg>\n",
              "  </button>\n",
              "\n",
              "<style>\n",
              "  .colab-df-quickchart {\n",
              "      --bg-color: #E8F0FE;\n",
              "      --fill-color: #1967D2;\n",
              "      --hover-bg-color: #E2EBFA;\n",
              "      --hover-fill-color: #174EA6;\n",
              "      --disabled-fill-color: #AAA;\n",
              "      --disabled-bg-color: #DDD;\n",
              "  }\n",
              "\n",
              "  [theme=dark] .colab-df-quickchart {\n",
              "      --bg-color: #3B4455;\n",
              "      --fill-color: #D2E3FC;\n",
              "      --hover-bg-color: #434B5C;\n",
              "      --hover-fill-color: #FFFFFF;\n",
              "      --disabled-bg-color: #3B4455;\n",
              "      --disabled-fill-color: #666;\n",
              "  }\n",
              "\n",
              "  .colab-df-quickchart {\n",
              "    background-color: var(--bg-color);\n",
              "    border: none;\n",
              "    border-radius: 50%;\n",
              "    cursor: pointer;\n",
              "    display: none;\n",
              "    fill: var(--fill-color);\n",
              "    height: 32px;\n",
              "    padding: 0;\n",
              "    width: 32px;\n",
              "  }\n",
              "\n",
              "  .colab-df-quickchart:hover {\n",
              "    background-color: var(--hover-bg-color);\n",
              "    box-shadow: 0 1px 2px rgba(60, 64, 67, 0.3), 0 1px 3px 1px rgba(60, 64, 67, 0.15);\n",
              "    fill: var(--button-hover-fill-color);\n",
              "  }\n",
              "\n",
              "  .colab-df-quickchart-complete:disabled,\n",
              "  .colab-df-quickchart-complete:disabled:hover {\n",
              "    background-color: var(--disabled-bg-color);\n",
              "    fill: var(--disabled-fill-color);\n",
              "    box-shadow: none;\n",
              "  }\n",
              "\n",
              "  .colab-df-spinner {\n",
              "    border: 2px solid var(--fill-color);\n",
              "    border-color: transparent;\n",
              "    border-bottom-color: var(--fill-color);\n",
              "    animation:\n",
              "      spin 1s steps(1) infinite;\n",
              "  }\n",
              "\n",
              "  @keyframes spin {\n",
              "    0% {\n",
              "      border-color: transparent;\n",
              "      border-bottom-color: var(--fill-color);\n",
              "      border-left-color: var(--fill-color);\n",
              "    }\n",
              "    20% {\n",
              "      border-color: transparent;\n",
              "      border-left-color: var(--fill-color);\n",
              "      border-top-color: var(--fill-color);\n",
              "    }\n",
              "    30% {\n",
              "      border-color: transparent;\n",
              "      border-left-color: var(--fill-color);\n",
              "      border-top-color: var(--fill-color);\n",
              "      border-right-color: var(--fill-color);\n",
              "    }\n",
              "    40% {\n",
              "      border-color: transparent;\n",
              "      border-right-color: var(--fill-color);\n",
              "      border-top-color: var(--fill-color);\n",
              "    }\n",
              "    60% {\n",
              "      border-color: transparent;\n",
              "      border-right-color: var(--fill-color);\n",
              "    }\n",
              "    80% {\n",
              "      border-color: transparent;\n",
              "      border-right-color: var(--fill-color);\n",
              "      border-bottom-color: var(--fill-color);\n",
              "    }\n",
              "    90% {\n",
              "      border-color: transparent;\n",
              "      border-bottom-color: var(--fill-color);\n",
              "    }\n",
              "  }\n",
              "</style>\n",
              "\n",
              "  <script>\n",
              "    async function quickchart(key) {\n",
              "      const quickchartButtonEl =\n",
              "        document.querySelector('#' + key + ' button');\n",
              "      quickchartButtonEl.disabled = true;  // To prevent multiple clicks.\n",
              "      quickchartButtonEl.classList.add('colab-df-spinner');\n",
              "      try {\n",
              "        const charts = await google.colab.kernel.invokeFunction(\n",
              "            'suggestCharts', [key], {});\n",
              "      } catch (error) {\n",
              "        console.error('Error during call to suggestCharts:', error);\n",
              "      }\n",
              "      quickchartButtonEl.classList.remove('colab-df-spinner');\n",
              "      quickchartButtonEl.classList.add('colab-df-quickchart-complete');\n",
              "    }\n",
              "    (() => {\n",
              "      let quickchartButtonEl =\n",
              "        document.querySelector('#df-0cadac45-5fbf-4236-9cad-b7e68a6d44dd button');\n",
              "      quickchartButtonEl.style.display =\n",
              "        google.colab.kernel.accessAllowed ? 'block' : 'none';\n",
              "    })();\n",
              "  </script>\n",
              "</div>\n",
              "\n",
              "    </div>\n",
              "  </div>\n"
            ],
            "application/vnd.google.colaboratory.intrinsic+json": {
              "type": "dataframe",
              "variable_name": "df"
            }
          },
          "metadata": {},
          "execution_count": 6
        }
      ]
    },
    {
      "cell_type": "code",
      "source": [
        "# verifies column 'selfMade' values format\n",
        "df['selfMade'].unique()"
      ],
      "metadata": {
        "id": "fTUGlVoR9epH",
        "colab": {
          "base_uri": "https://localhost:8080/"
        },
        "outputId": "a01f99b9-4764-402b-89ab-974aa86d2da2"
      },
      "execution_count": 7,
      "outputs": [
        {
          "output_type": "execute_result",
          "data": {
            "text/plain": [
              "array([False,  True])"
            ]
          },
          "metadata": {},
          "execution_count": 7
        }
      ]
    },
    {
      "cell_type": "code",
      "source": [
        "df['selfMade'] = df['selfMade'].astype(str).str.lower()"
      ],
      "metadata": {
        "id": "NXRcXEel-EqL"
      },
      "execution_count": 8,
      "outputs": []
    },
    {
      "cell_type": "code",
      "source": [
        "# change 'selfMade' column dtype\n",
        "df['selfMade'] = df['selfMade'].map({'false': 0, 'true': 1})"
      ],
      "metadata": {
        "id": "2vqMpi6M4hDj"
      },
      "execution_count": 9,
      "outputs": []
    },
    {
      "cell_type": "code",
      "source": [
        "# normalize 'gpd_country' column\n",
        "df['gdp_country'] = df['gdp_country'].astype(str).apply(lambda x: x.replace('$', '').replace(',', ''))"
      ],
      "metadata": {
        "id": "wyLzNyAP8Jom"
      },
      "execution_count": 10,
      "outputs": []
    },
    {
      "cell_type": "code",
      "source": [
        "df['gdp_country'] = df['gdp_country'].astype(float)"
      ],
      "metadata": {
        "id": "-gnzb7c3_1mp"
      },
      "execution_count": 11,
      "outputs": []
    },
    {
      "cell_type": "code",
      "source": [
        "df.info()"
      ],
      "metadata": {
        "id": "LRs8GghS9DrH",
        "colab": {
          "base_uri": "https://localhost:8080/"
        },
        "outputId": "4ee8f430-a4d6-47d8-c4f0-c1c8deb7bafb"
      },
      "execution_count": 12,
      "outputs": [
        {
          "output_type": "stream",
          "name": "stdout",
          "text": [
            "<class 'pandas.core.frame.DataFrame'>\n",
            "RangeIndex: 2640 entries, 0 to 2639\n",
            "Data columns (total 35 columns):\n",
            " #   Column                                      Non-Null Count  Dtype  \n",
            "---  ------                                      --------------  -----  \n",
            " 0   rank                                        2640 non-null   int64  \n",
            " 1   finalWorth                                  2640 non-null   int64  \n",
            " 2   category                                    2640 non-null   object \n",
            " 3   personName                                  2640 non-null   object \n",
            " 4   age                                         2575 non-null   float64\n",
            " 5   country                                     2602 non-null   object \n",
            " 6   city                                        2568 non-null   object \n",
            " 7   source                                      2640 non-null   object \n",
            " 8   industries                                  2640 non-null   object \n",
            " 9   countryOfCitizenship                        2640 non-null   object \n",
            " 10  organization                                325 non-null    object \n",
            " 11  selfMade                                    2640 non-null   int64  \n",
            " 12  status                                      2640 non-null   object \n",
            " 13  gender                                      2640 non-null   object \n",
            " 14  birthDate                                   2564 non-null   object \n",
            " 15  lastName                                    2640 non-null   object \n",
            " 16  firstName                                   2637 non-null   object \n",
            " 17  title                                       339 non-null    object \n",
            " 18  date                                        2640 non-null   object \n",
            " 19  state                                       753 non-null    object \n",
            " 20  residenceStateRegion                        747 non-null    object \n",
            " 21  birthYear                                   2564 non-null   float64\n",
            " 22  birthMonth                                  2564 non-null   float64\n",
            " 23  birthDay                                    2564 non-null   float64\n",
            " 24  cpi_country                                 2456 non-null   float64\n",
            " 25  cpi_change_country                          2456 non-null   float64\n",
            " 26  gdp_country                                 2476 non-null   float64\n",
            " 27  gross_tertiary_education_enrollment         2458 non-null   float64\n",
            " 28  gross_primary_education_enrollment_country  2459 non-null   float64\n",
            " 29  life_expectancy_country                     2458 non-null   float64\n",
            " 30  tax_revenue_country_country                 2457 non-null   float64\n",
            " 31  total_tax_rate_country                      2458 non-null   float64\n",
            " 32  population_country                          2476 non-null   float64\n",
            " 33  latitude_country                            2476 non-null   float64\n",
            " 34  longitude_country                           2476 non-null   float64\n",
            "dtypes: float64(15), int64(3), object(17)\n",
            "memory usage: 722.0+ KB\n"
          ]
        }
      ]
    },
    {
      "cell_type": "code",
      "source": [
        "# correlation between 24 - 34 columns (the columns seem to measure similar things)\n",
        "sns.heatmap(df[df.columns[24:34]].corr())"
      ],
      "metadata": {
        "id": "BdCkCcOt5mMj",
        "colab": {
          "base_uri": "https://localhost:8080/",
          "height": 755
        },
        "outputId": "0ffecf3e-68af-4b1a-fae4-7ce66cc16530"
      },
      "execution_count": 13,
      "outputs": [
        {
          "output_type": "execute_result",
          "data": {
            "text/plain": [
              "<Axes: >"
            ]
          },
          "metadata": {},
          "execution_count": 13
        },
        {
          "output_type": "display_data",
          "data": {
            "text/plain": [
              "<Figure size 640x480 with 2 Axes>"
            ],
            "image/png": "[encoded data removed]"
          },
          "metadata": {}
        }
      ]
    },
    {
      "cell_type": "code",
      "source": [
        "df.info()"
      ],
      "metadata": {
        "id": "1W7ZJMzH7C0U",
        "colab": {
          "base_uri": "https://localhost:8080/"
        },
        "outputId": "33f6c115-13ed-4b58-ee8c-b34df6a75fb7"
      },
      "execution_count": 14,
      "outputs": [
        {
          "output_type": "stream",
          "name": "stdout",
          "text": [
            "<class 'pandas.core.frame.DataFrame'>\n",
            "RangeIndex: 2640 entries, 0 to 2639\n",
            "Data columns (total 35 columns):\n",
            " #   Column                                      Non-Null Count  Dtype  \n",
            "---  ------                                      --------------  -----  \n",
            " 0   rank                                        2640 non-null   int64  \n",
            " 1   finalWorth                                  2640 non-null   int64  \n",
            " 2   category                                    2640 non-null   object \n",
            " 3   personName                                  2640 non-null   object \n",
            " 4   age                                         2575 non-null   float64\n",
            " 5   country                                     2602 non-null   object \n",
            " 6   city                                        2568 non-null   object \n",
            " 7   source                                      2640 non-null   object \n",
            " 8   industries                                  2640 non-null   object \n",
            " 9   countryOfCitizenship                        2640 non-null   object \n",
            " 10  organization                                325 non-null    object \n",
            " 11  selfMade                                    2640 non-null   int64  \n",
            " 12  status                                      2640 non-null   object \n",
            " 13  gender                                      2640 non-null   object \n",
            " 14  birthDate                                   2564 non-null   object \n",
            " 15  lastName                                    2640 non-null   object \n",
            " 16  firstName                                   2637 non-null   object \n",
            " 17  title                                       339 non-null    object \n",
            " 18  date                                        2640 non-null   object \n",
            " 19  state                                       753 non-null    object \n",
            " 20  residenceStateRegion                        747 non-null    object \n",
            " 21  birthYear                                   2564 non-null   float64\n",
            " 22  birthMonth                                  2564 non-null   float64\n",
            " 23  birthDay                                    2564 non-null   float64\n",
            " 24  cpi_country                                 2456 non-null   float64\n",
            " 25  cpi_change_country                          2456 non-null   float64\n",
            " 26  gdp_country                                 2476 non-null   float64\n",
            " 27  gross_tertiary_education_enrollment         2458 non-null   float64\n",
            " 28  gross_primary_education_enrollment_country  2459 non-null   float64\n",
            " 29  life_expectancy_country                     2458 non-null   float64\n",
            " 30  tax_revenue_country_country                 2457 non-null   float64\n",
            " 31  total_tax_rate_country                      2458 non-null   float64\n",
            " 32  population_country                          2476 non-null   float64\n",
            " 33  latitude_country                            2476 non-null   float64\n",
            " 34  longitude_country                           2476 non-null   float64\n",
            "dtypes: float64(15), int64(3), object(17)\n",
            "memory usage: 722.0+ KB\n"
          ]
        }
      ]
    },
    {
      "cell_type": "code",
      "source": [
        "df['title'].head()"
      ],
      "metadata": {
        "id": "TbcEC7yn23nY",
        "colab": {
          "base_uri": "https://localhost:8080/",
          "height": 241
        },
        "outputId": "6a95591b-b034-4505-b05b-c1be090f313e"
      },
      "execution_count": 15,
      "outputs": [
        {
          "output_type": "execute_result",
          "data": {
            "text/plain": [
              "0        Chairman and CEO\n",
              "1                     CEO\n",
              "2    Chairman and Founder\n",
              "3         CTO and Founder\n",
              "4                     CEO\n",
              "Name: title, dtype: object"
            ],
            "text/html": [
              "<div>\n",
              "<style scoped>\n",
              "    .dataframe tbody tr th:only-of-type {\n",
              "        vertical-align: middle;\n",
              "    }\n",
              "\n",
              "    .dataframe tbody tr th {\n",
              "        vertical-align: top;\n",
              "    }\n",
              "\n",
              "    .dataframe thead th {\n",
              "        text-align: right;\n",
              "    }\n",
              "</style>\n",
              "<table border=\"1\" class=\"dataframe\">\n",
              "  <thead>\n",
              "    <tr style=\"text-align: right;\">\n",
              "      <th></th>\n",
              "      <th>title</th>\n",
              "    </tr>\n",
              "  </thead>\n",
              "  <tbody>\n",
              "    <tr>\n",
              "      <th>0</th>\n",
              "      <td>Chairman and CEO</td>\n",
              "    </tr>\n",
              "    <tr>\n",
              "      <th>1</th>\n",
              "      <td>CEO</td>\n",
              "    </tr>\n",
              "    <tr>\n",
              "      <th>2</th>\n",
              "      <td>Chairman and Founder</td>\n",
              "    </tr>\n",
              "    <tr>\n",
              "      <th>3</th>\n",
              "      <td>CTO and Founder</td>\n",
              "    </tr>\n",
              "    <tr>\n",
              "      <th>4</th>\n",
              "      <td>CEO</td>\n",
              "    </tr>\n",
              "  </tbody>\n",
              "</table>\n",
              "</div><br><label><b>dtype:</b> object</label>"
            ]
          },
          "metadata": {},
          "execution_count": 15
        }
      ]
    },
    {
      "cell_type": "code",
      "source": [
        "# drop 'organization', 'tile', 'state', 'residenceStateRegion' columns, due to high proportion of missing values\n",
        "df.drop(['organization', 'title', 'state', 'residenceStateRegion'], axis=1, inplace=True)"
      ],
      "metadata": {
        "id": "_Z84eulUFg_4"
      },
      "execution_count": 16,
      "outputs": []
    },
    {
      "cell_type": "code",
      "source": [
        "df.info()"
      ],
      "metadata": {
        "colab": {
          "base_uri": "https://localhost:8080/"
        },
        "id": "z8aiSDmFGsgJ",
        "outputId": "1e3eff74-c575-40be-ad1c-4db49d572181"
      },
      "execution_count": 17,
      "outputs": [
        {
          "output_type": "stream",
          "name": "stdout",
          "text": [
            "<class 'pandas.core.frame.DataFrame'>\n",
            "RangeIndex: 2640 entries, 0 to 2639\n",
            "Data columns (total 31 columns):\n",
            " #   Column                                      Non-Null Count  Dtype  \n",
            "---  ------                                      --------------  -----  \n",
            " 0   rank                                        2640 non-null   int64  \n",
            " 1   finalWorth                                  2640 non-null   int64  \n",
            " 2   category                                    2640 non-null   object \n",
            " 3   personName                                  2640 non-null   object \n",
            " 4   age                                         2575 non-null   float64\n",
            " 5   country                                     2602 non-null   object \n",
            " 6   city                                        2568 non-null   object \n",
            " 7   source                                      2640 non-null   object \n",
            " 8   industries                                  2640 non-null   object \n",
            " 9   countryOfCitizenship                        2640 non-null   object \n",
            " 10  selfMade                                    2640 non-null   int64  \n",
            " 11  status                                      2640 non-null   object \n",
            " 12  gender                                      2640 non-null   object \n",
            " 13  birthDate                                   2564 non-null   object \n",
            " 14  lastName                                    2640 non-null   object \n",
            " 15  firstName                                   2637 non-null   object \n",
            " 16  date                                        2640 non-null   object \n",
            " 17  birthYear                                   2564 non-null   float64\n",
            " 18  birthMonth                                  2564 non-null   float64\n",
            " 19  birthDay                                    2564 non-null   float64\n",
            " 20  cpi_country                                 2456 non-null   float64\n",
            " 21  cpi_change_country                          2456 non-null   float64\n",
            " 22  gdp_country                                 2476 non-null   float64\n",
            " 23  gross_tertiary_education_enrollment         2458 non-null   float64\n",
            " 24  gross_primary_education_enrollment_country  2459 non-null   float64\n",
            " 25  life_expectancy_country                     2458 non-null   float64\n",
            " 26  tax_revenue_country_country                 2457 non-null   float64\n",
            " 27  total_tax_rate_country                      2458 non-null   float64\n",
            " 28  population_country                          2476 non-null   float64\n",
            " 29  latitude_country                            2476 non-null   float64\n",
            " 30  longitude_country                           2476 non-null   float64\n",
            "dtypes: float64(15), int64(3), object(13)\n",
            "memory usage: 639.5+ KB\n"
          ]
        }
      ]
    },
    {
      "cell_type": "code",
      "source": [
        "# drop remaining missing values\n",
        "df.dropna(inplace=True)"
      ],
      "metadata": {
        "id": "sGhLbXZEGzco"
      },
      "execution_count": 18,
      "outputs": []
    },
    {
      "cell_type": "code",
      "source": [
        "df.info()"
      ],
      "metadata": {
        "colab": {
          "base_uri": "https://localhost:8080/"
        },
        "id": "VwnbjJ_0HHzh",
        "outputId": "5378dc2a-2daf-456a-f8b5-329e20a9bc3c"
      },
      "execution_count": 19,
      "outputs": [
        {
          "output_type": "stream",
          "name": "stdout",
          "text": [
            "<class 'pandas.core.frame.DataFrame'>\n",
            "Index: 2369 entries, 0 to 2639\n",
            "Data columns (total 31 columns):\n",
            " #   Column                                      Non-Null Count  Dtype  \n",
            "---  ------                                      --------------  -----  \n",
            " 0   rank                                        2369 non-null   int64  \n",
            " 1   finalWorth                                  2369 non-null   int64  \n",
            " 2   category                                    2369 non-null   object \n",
            " 3   personName                                  2369 non-null   object \n",
            " 4   age                                         2369 non-null   float64\n",
            " 5   country                                     2369 non-null   object \n",
            " 6   city                                        2369 non-null   object \n",
            " 7   source                                      2369 non-null   object \n",
            " 8   industries                                  2369 non-null   object \n",
            " 9   countryOfCitizenship                        2369 non-null   object \n",
            " 10  selfMade                                    2369 non-null   int64  \n",
            " 11  status                                      2369 non-null   object \n",
            " 12  gender                                      2369 non-null   object \n",
            " 13  birthDate                                   2369 non-null   object \n",
            " 14  lastName                                    2369 non-null   object \n",
            " 15  firstName                                   2369 non-null   object \n",
            " 16  date                                        2369 non-null   object \n",
            " 17  birthYear                                   2369 non-null   float64\n",
            " 18  birthMonth                                  2369 non-null   float64\n",
            " 19  birthDay                                    2369 non-null   float64\n",
            " 20  cpi_country                                 2369 non-null   float64\n",
            " 21  cpi_change_country                          2369 non-null   float64\n",
            " 22  gdp_country                                 2369 non-null   float64\n",
            " 23  gross_tertiary_education_enrollment         2369 non-null   float64\n",
            " 24  gross_primary_education_enrollment_country  2369 non-null   float64\n",
            " 25  life_expectancy_country                     2369 non-null   float64\n",
            " 26  tax_revenue_country_country                 2369 non-null   float64\n",
            " 27  total_tax_rate_country                      2369 non-null   float64\n",
            " 28  population_country                          2369 non-null   float64\n",
            " 29  latitude_country                            2369 non-null   float64\n",
            " 30  longitude_country                           2369 non-null   float64\n",
            "dtypes: float64(15), int64(3), object(13)\n",
            "memory usage: 592.2+ KB\n"
          ]
        }
      ]
    },
    {
      "cell_type": "code",
      "source": [
        "# correlation matrix of all numeric columns\n",
        "numeric_columns = df.select_dtypes(exclude='object').columns\n",
        "sns.heatmap(df[numeric_columns].corr())"
      ],
      "metadata": {
        "colab": {
          "base_uri": "https://localhost:8080/",
          "height": 755
        },
        "id": "GnfMAmcFHImP",
        "outputId": "718dcd1e-c3a8-4904-a7e7-3b32058a2b61"
      },
      "execution_count": 20,
      "outputs": [
        {
          "output_type": "execute_result",
          "data": {
            "text/plain": [
              "<Axes: >"
            ]
          },
          "metadata": {},
          "execution_count": 20
        },
        {
          "output_type": "display_data",
          "data": {
            "text/plain": [
              "<Figure size 640x480 with 2 Axes>"
            ],
            "image/png": "[encoded data removed]"
          },
          "metadata": {}
        }
      ]
    },
    {
      "cell_type": "code",
      "source": [
        "# drop 'age' column due to 'poor data'\n",
        "df.drop('age', axis=1, inplace=True)"
      ],
      "metadata": {
        "id": "H0FxjTwRIBQI"
      },
      "execution_count": 21,
      "outputs": []
    },
    {
      "cell_type": "code",
      "source": [
        "# drop 'status' column because it has the same idea as 'selfMade' column\n",
        "df.drop('status', axis=1, inplace=True)"
      ],
      "metadata": {
        "id": "qr5L3teVJezw"
      },
      "execution_count": 22,
      "outputs": []
    },
    {
      "cell_type": "code",
      "source": [
        "df['industries'].unique()"
      ],
      "metadata": {
        "colab": {
          "base_uri": "https://localhost:8080/"
        },
        "id": "x0vd7yMuJyKH",
        "outputId": "22c716aa-d976-48ef-a94b-b6a9bf5be361"
      },
      "execution_count": 23,
      "outputs": [
        {
          "output_type": "execute_result",
          "data": {
            "text/plain": [
              "array(['Fashion & Retail', 'Automotive', 'Technology',\n",
              "       'Finance & Investments', 'Media & Entertainment', 'Telecom',\n",
              "       'Diversified', 'Food & Beverage', 'Logistics',\n",
              "       'Gambling & Casinos', 'Manufacturing', 'Metals & Mining', 'Energy',\n",
              "       'Healthcare', 'Service', 'Real Estate',\n",
              "       'Construction & Engineering', 'Sports'], dtype=object)"
            ]
          },
          "metadata": {},
          "execution_count": 23
        }
      ]
    },
    {
      "cell_type": "code",
      "source": [
        "df['category'].unique()"
      ],
      "metadata": {
        "colab": {
          "base_uri": "https://localhost:8080/"
        },
        "id": "hSb6YEizKDun",
        "outputId": "e764f02a-d782-4091-bda2-97995d834129"
      },
      "execution_count": 24,
      "outputs": [
        {
          "output_type": "execute_result",
          "data": {
            "text/plain": [
              "array(['Fashion & Retail', 'Automotive', 'Technology',\n",
              "       'Finance & Investments', 'Media & Entertainment', 'Telecom',\n",
              "       'Diversified', 'Food & Beverage', 'Logistics',\n",
              "       'Gambling & Casinos', 'Manufacturing', 'Metals & Mining', 'Energy',\n",
              "       'Healthcare', 'Service', 'Real Estate',\n",
              "       'Construction & Engineering', 'Sports'], dtype=object)"
            ]
          },
          "metadata": {},
          "execution_count": 24
        }
      ]
    },
    {
      "cell_type": "code",
      "source": [
        "df[['category', 'industries']].head()"
      ],
      "metadata": {
        "colab": {
          "base_uri": "https://localhost:8080/",
          "height": 206
        },
        "id": "ykG42ke8KJwX",
        "outputId": "9528ef0f-837a-404c-ee11-127a8a243b7b"
      },
      "execution_count": 25,
      "outputs": [
        {
          "output_type": "execute_result",
          "data": {
            "text/plain": [
              "                category             industries\n",
              "0       Fashion & Retail       Fashion & Retail\n",
              "1             Automotive             Automotive\n",
              "2             Technology             Technology\n",
              "3             Technology             Technology\n",
              "4  Finance & Investments  Finance & Investments"
            ],
            "text/html": [
              "\n",
              "  <div id=\"df-4230409a-242b-4441-90bf-d7bef1abf2dc\" class=\"colab-df-container\">\n",
              "    <div>\n",
              "<style scoped>\n",
              "    .dataframe tbody tr th:only-of-type {\n",
              "        vertical-align: middle;\n",
              "    }\n",
              "\n",
              "    .dataframe tbody tr th {\n",
              "        vertical-align: top;\n",
              "    }\n",
              "\n",
              "    .dataframe thead th {\n",
              "        text-align: right;\n",
              "    }\n",
              "</style>\n",
              "<table border=\"1\" class=\"dataframe\">\n",
              "  <thead>\n",
              "    <tr style=\"text-align: right;\">\n",
              "      <th></th>\n",
              "      <th>category</th>\n",
              "      <th>industries</th>\n",
              "    </tr>\n",
              "  </thead>\n",
              "  <tbody>\n",
              "    <tr>\n",
              "      <th>0</th>\n",
              "      <td>Fashion &amp; Retail</td>\n",
              "      <td>Fashion &amp; Retail</td>\n",
              "    </tr>\n",
              "    <tr>\n",
              "      <th>1</th>\n",
              "      <td>Automotive</td>\n",
              "      <td>Automotive</td>\n",
              "    </tr>\n",
              "    <tr>\n",
              "      <th>2</th>\n",
              "      <td>Technology</td>\n",
              "      <td>Technology</td>\n",
              "    </tr>\n",
              "    <tr>\n",
              "      <th>3</th>\n",
              "      <td>Technology</td>\n",
              "      <td>Technology</td>\n",
              "    </tr>\n",
              "    <tr>\n",
              "      <th>4</th>\n",
              "      <td>Finance &amp; Investments</td>\n",
              "      <td>Finance &amp; Investments</td>\n",
              "    </tr>\n",
              "  </tbody>\n",
              "</table>\n",
              "</div>\n",
              "    <div class=\"colab-df-buttons\">\n",
              "\n",
              "  <div class=\"colab-df-container\">\n",
              "    <button class=\"colab-df-convert\" onclick=\"convertToInteractive('df-4230409a-242b-4441-90bf-d7bef1abf2dc')\"\n",
              "            title=\"Convert this dataframe to an interactive table.\"\n",
              "            style=\"display:none;\">\n",
              "\n",
              "  <svg xmlns=\"http://www.w3.org/2000/svg\" height=\"24px\" viewBox=\"0 -960 960 960\">\n",
              "    <path d=\"M120-120v-720h720v720H120Zm60-500h600v-160H180v160Zm220 220h160v-160H400v160Zm0 220h160v-160H400v160ZM180-400h160v-160H180v160Zm440 0h160v-160H620v160ZM180-180h160v-160H180v160Zm440 0h160v-160H620v160Z\"/>\n",
              "  </svg>\n",
              "    </button>\n",
              "\n",
              "  <style>\n",
              "    .colab-df-container {\n",
              "      display:flex;\n",
              "      gap: 12px;\n",
              "    }\n",
              "\n",
              "    .colab-df-convert {\n",
              "      background-color: #E8F0FE;\n",
              "      border: none;\n",
              "      border-radius: 50%;\n",
              "      cursor: pointer;\n",
              "      display: none;\n",
              "      fill: #1967D2;\n",
              "      height: 32px;\n",
              "      padding: 0 0 0 0;\n",
              "      width: 32px;\n",
              "    }\n",
              "\n",
              "    .colab-df-convert:hover {\n",
              "      background-color: #E2EBFA;\n",
              "      box-shadow: 0px 1px 2px rgba(60, 64, 67, 0.3), 0px 1px 3px 1px rgba(60, 64, 67, 0.15);\n",
              "      fill: #174EA6;\n",
              "    }\n",
              "\n",
              "    .colab-df-buttons div {\n",
              "      margin-bottom: 4px;\n",
              "    }\n",
              "\n",
              "    [theme=dark] .colab-df-convert {\n",
              "      background-color: #3B4455;\n",
              "      fill: #D2E3FC;\n",
              "    }\n",
              "\n",
              "    [theme=dark] .colab-df-convert:hover {\n",
              "      background-color: #434B5C;\n",
              "      box-shadow: 0px 1px 3px 1px rgba(0, 0, 0, 0.15);\n",
              "      filter: drop-shadow(0px 1px 2px rgba(0, 0, 0, 0.3));\n",
              "      fill: #FFFFFF;\n",
              "    }\n",
              "  </style>\n",
              "\n",
              "    <script>\n",
              "      const buttonEl =\n",
              "        document.querySelector('#df-4230409a-242b-4441-90bf-d7bef1abf2dc button.colab-df-convert');\n",
              "      buttonEl.style.display =\n",
              "        google.colab.kernel.accessAllowed ? 'block' : 'none';\n",
              "\n",
              "      async function convertToInteractive(key) {\n",
              "        const element = document.querySelector('#df-4230409a-242b-4441-90bf-d7bef1abf2dc');\n",
              "        const dataTable =\n",
              "          await google.colab.kernel.invokeFunction('convertToInteractive',\n",
              "                                                    [key], {});\n",
              "        if (!dataTable) return;\n",
              "\n",
              "        const docLinkHtml = 'Like what you see? Visit the ' +\n",
              "          '<a target=\"_blank\" href=https://colab.research.google.com/notebooks/data_table.ipynb>data table notebook</a>'\n",
              "          + ' to learn more about interactive tables.';\n",
              "        element.innerHTML = '';\n",
              "        dataTable['output_type'] = 'display_data';\n",
              "        await google.colab.output.renderOutput(dataTable, element);\n",
              "        const docLink = document.createElement('div');\n",
              "        docLink.innerHTML = docLinkHtml;\n",
              "        element.appendChild(docLink);\n",
              "      }\n",
              "    </script>\n",
              "  </div>\n",
              "\n",
              "\n",
              "<div id=\"df-feb73390-e06d-4a2d-8eb9-ea77a537a607\">\n",
              "  <button class=\"colab-df-quickchart\" onclick=\"quickchart('df-feb73390-e06d-4a2d-8eb9-ea77a537a607')\"\n",
              "            title=\"Suggest charts\"\n",
              "            style=\"display:none;\">\n",
              "\n",
              "<svg xmlns=\"http://www.w3.org/2000/svg\" height=\"24px\"viewBox=\"0 0 24 24\"\n",
              "     width=\"24px\">\n",
              "    <g>\n",
              "        <path d=\"M19 3H5c-1.1 0-2 .9-2 2v14c0 1.1.9 2 2 2h14c1.1 0 2-.9 2-2V5c0-1.1-.9-2-2-2zM9 17H7v-7h2v7zm4 0h-2V7h2v10zm4 0h-2v-4h2v4z\"/>\n",
              "    </g>\n",
              "</svg>\n",
              "  </button>\n",
              "\n",
              "<style>\n",
              "  .colab-df-quickchart {\n",
              "      --bg-color: #E8F0FE;\n",
              "      --fill-color: #1967D2;\n",
              "      --hover-bg-color: #E2EBFA;\n",
              "      --hover-fill-color: #174EA6;\n",
              "      --disabled-fill-color: #AAA;\n",
              "      --disabled-bg-color: #DDD;\n",
              "  }\n",
              "\n",
              "  [theme=dark] .colab-df-quickchart {\n",
              "      --bg-color: #3B4455;\n",
              "      --fill-color: #D2E3FC;\n",
              "      --hover-bg-color: #434B5C;\n",
              "      --hover-fill-color: #FFFFFF;\n",
              "      --disabled-bg-color: #3B4455;\n",
              "      --disabled-fill-color: #666;\n",
              "  }\n",
              "\n",
              "  .colab-df-quickchart {\n",
              "    background-color: var(--bg-color);\n",
              "    border: none;\n",
              "    border-radius: 50%;\n",
              "    cursor: pointer;\n",
              "    display: none;\n",
              "    fill: var(--fill-color);\n",
              "    height: 32px;\n",
              "    padding: 0;\n",
              "    width: 32px;\n",
              "  }\n",
              "\n",
              "  .colab-df-quickchart:hover {\n",
              "    background-color: var(--hover-bg-color);\n",
              "    box-shadow: 0 1px 2px rgba(60, 64, 67, 0.3), 0 1px 3px 1px rgba(60, 64, 67, 0.15);\n",
              "    fill: var(--button-hover-fill-color);\n",
              "  }\n",
              "\n",
              "  .colab-df-quickchart-complete:disabled,\n",
              "  .colab-df-quickchart-complete:disabled:hover {\n",
              "    background-color: var(--disabled-bg-color);\n",
              "    fill: var(--disabled-fill-color);\n",
              "    box-shadow: none;\n",
              "  }\n",
              "\n",
              "  .colab-df-spinner {\n",
              "    border: 2px solid var(--fill-color);\n",
              "    border-color: transparent;\n",
              "    border-bottom-color: var(--fill-color);\n",
              "    animation:\n",
              "      spin 1s steps(1) infinite;\n",
              "  }\n",
              "\n",
              "  @keyframes spin {\n",
              "    0% {\n",
              "      border-color: transparent;\n",
              "      border-bottom-color: var(--fill-color);\n",
              "      border-left-color: var(--fill-color);\n",
              "    }\n",
              "    20% {\n",
              "      border-color: transparent;\n",
              "      border-left-color: var(--fill-color);\n",
              "      border-top-color: var(--fill-color);\n",
              "    }\n",
              "    30% {\n",
              "      border-color: transparent;\n",
              "      border-left-color: var(--fill-color);\n",
              "      border-top-color: var(--fill-color);\n",
              "      border-right-color: var(--fill-color);\n",
              "    }\n",
              "    40% {\n",
              "      border-color: transparent;\n",
              "      border-right-color: var(--fill-color);\n",
              "      border-top-color: var(--fill-color);\n",
              "    }\n",
              "    60% {\n",
              "      border-color: transparent;\n",
              "      border-right-color: var(--fill-color);\n",
              "    }\n",
              "    80% {\n",
              "      border-color: transparent;\n",
              "      border-right-color: var(--fill-color);\n",
              "      border-bottom-color: var(--fill-color);\n",
              "    }\n",
              "    90% {\n",
              "      border-color: transparent;\n",
              "      border-bottom-color: var(--fill-color);\n",
              "    }\n",
              "  }\n",
              "</style>\n",
              "\n",
              "  <script>\n",
              "    async function quickchart(key) {\n",
              "      const quickchartButtonEl =\n",
              "        document.querySelector('#' + key + ' button');\n",
              "      quickchartButtonEl.disabled = true;  // To prevent multiple clicks.\n",
              "      quickchartButtonEl.classList.add('colab-df-spinner');\n",
              "      try {\n",
              "        const charts = await google.colab.kernel.invokeFunction(\n",
              "            'suggestCharts', [key], {});\n",
              "      } catch (error) {\n",
              "        console.error('Error during call to suggestCharts:', error);\n",
              "      }\n",
              "      quickchartButtonEl.classList.remove('colab-df-spinner');\n",
              "      quickchartButtonEl.classList.add('colab-df-quickchart-complete');\n",
              "    }\n",
              "    (() => {\n",
              "      let quickchartButtonEl =\n",
              "        document.querySelector('#df-feb73390-e06d-4a2d-8eb9-ea77a537a607 button');\n",
              "      quickchartButtonEl.style.display =\n",
              "        google.colab.kernel.accessAllowed ? 'block' : 'none';\n",
              "    })();\n",
              "  </script>\n",
              "</div>\n",
              "\n",
              "    </div>\n",
              "  </div>\n"
            ],
            "application/vnd.google.colaboratory.intrinsic+json": {
              "type": "dataframe",
              "summary": "{\n  \"name\": \"df[['category', 'industries']]\",\n  \"rows\": 5,\n  \"fields\": [\n    {\n      \"column\": \"category\",\n      \"properties\": {\n        \"dtype\": \"string\",\n        \"num_unique_values\": 4,\n        \"samples\": [\n          \"Automotive\",\n          \"Finance & Investments\",\n          \"Fashion & Retail\"\n        ],\n        \"semantic_type\": \"\",\n        \"description\": \"\"\n      }\n    },\n    {\n      \"column\": \"industries\",\n      \"properties\": {\n        \"dtype\": \"string\",\n        \"num_unique_values\": 4,\n        \"samples\": [\n          \"Automotive\",\n          \"Finance & Investments\",\n          \"Fashion & Retail\"\n        ],\n        \"semantic_type\": \"\",\n        \"description\": \"\"\n      }\n    }\n  ]\n}"
            }
          },
          "metadata": {},
          "execution_count": 25
        }
      ]
    },
    {
      "cell_type": "code",
      "source": [
        "# verifies if the values in columns 'industries' and 'category' are identical\n",
        "industries_array = df['industries'].values\n",
        "category_array = df['category'].values\n",
        "\n",
        "if np.all(industries_array == category_array):\n",
        "  print('yes')"
      ],
      "metadata": {
        "colab": {
          "base_uri": "https://localhost:8080/"
        },
        "id": "a1u815O0Kcco",
        "outputId": "b6600a1f-5a51-4e5b-8ed4-689bd0aebc98"
      },
      "execution_count": 26,
      "outputs": [
        {
          "output_type": "stream",
          "name": "stdout",
          "text": [
            "yes\n"
          ]
        }
      ]
    },
    {
      "cell_type": "code",
      "source": [
        "# drop 'category' column due to identical values as 'industries' column\n",
        "df.drop('category', axis=1, inplace=True)"
      ],
      "metadata": {
        "id": "pNES0B0KLCIA"
      },
      "execution_count": 27,
      "outputs": []
    },
    {
      "cell_type": "code",
      "source": [
        "df.info()"
      ],
      "metadata": {
        "colab": {
          "base_uri": "https://localhost:8080/"
        },
        "id": "AnLjRk70MgfY",
        "outputId": "c36c2c6a-a66e-4ba3-fad4-128e048056a3"
      },
      "execution_count": 28,
      "outputs": [
        {
          "output_type": "stream",
          "name": "stdout",
          "text": [
            "<class 'pandas.core.frame.DataFrame'>\n",
            "Index: 2369 entries, 0 to 2639\n",
            "Data columns (total 28 columns):\n",
            " #   Column                                      Non-Null Count  Dtype  \n",
            "---  ------                                      --------------  -----  \n",
            " 0   rank                                        2369 non-null   int64  \n",
            " 1   finalWorth                                  2369 non-null   int64  \n",
            " 2   personName                                  2369 non-null   object \n",
            " 3   country                                     2369 non-null   object \n",
            " 4   city                                        2369 non-null   object \n",
            " 5   source                                      2369 non-null   object \n",
            " 6   industries                                  2369 non-null   object \n",
            " 7   countryOfCitizenship                        2369 non-null   object \n",
            " 8   selfMade                                    2369 non-null   int64  \n",
            " 9   gender                                      2369 non-null   object \n",
            " 10  birthDate                                   2369 non-null   object \n",
            " 11  lastName                                    2369 non-null   object \n",
            " 12  firstName                                   2369 non-null   object \n",
            " 13  date                                        2369 non-null   object \n",
            " 14  birthYear                                   2369 non-null   float64\n",
            " 15  birthMonth                                  2369 non-null   float64\n",
            " 16  birthDay                                    2369 non-null   float64\n",
            " 17  cpi_country                                 2369 non-null   float64\n",
            " 18  cpi_change_country                          2369 non-null   float64\n",
            " 19  gdp_country                                 2369 non-null   float64\n",
            " 20  gross_tertiary_education_enrollment         2369 non-null   float64\n",
            " 21  gross_primary_education_enrollment_country  2369 non-null   float64\n",
            " 22  life_expectancy_country                     2369 non-null   float64\n",
            " 23  tax_revenue_country_country                 2369 non-null   float64\n",
            " 24  total_tax_rate_country                      2369 non-null   float64\n",
            " 25  population_country                          2369 non-null   float64\n",
            " 26  latitude_country                            2369 non-null   float64\n",
            " 27  longitude_country                           2369 non-null   float64\n",
            "dtypes: float64(14), int64(3), object(11)\n",
            "memory usage: 536.7+ KB\n"
          ]
        }
      ]
    },
    {
      "cell_type": "code",
      "source": [
        "# verifies columns carndinality\n",
        "df.nunique()"
      ],
      "metadata": {
        "colab": {
          "base_uri": "https://localhost:8080/",
          "height": 962
        },
        "id": "PjiPnfwXMsl3",
        "outputId": "cedb2689-4e14-48d0-db74-13e3370320a1"
      },
      "execution_count": 29,
      "outputs": [
        {
          "output_type": "execute_result",
          "data": {
            "text/plain": [
              "rank                                           214\n",
              "finalWorth                                     214\n",
              "personName                                    2367\n",
              "country                                         63\n",
              "city                                           708\n",
              "source                                         856\n",
              "industries                                      18\n",
              "countryOfCitizenship                            70\n",
              "selfMade                                         2\n",
              "gender                                           2\n",
              "birthDate                                     1926\n",
              "lastName                                      1614\n",
              "firstName                                     1608\n",
              "date                                             2\n",
              "birthYear                                       76\n",
              "birthMonth                                      12\n",
              "birthDay                                        31\n",
              "cpi_country                                     62\n",
              "cpi_change_country                              44\n",
              "gdp_country                                     63\n",
              "gross_tertiary_education_enrollment             60\n",
              "gross_primary_education_enrollment_country      59\n",
              "life_expectancy_country                         52\n",
              "tax_revenue_country_country                     55\n",
              "total_tax_rate_country                          60\n",
              "population_country                              63\n",
              "latitude_country                                63\n",
              "longitude_country                               63\n",
              "dtype: int64"
            ],
            "text/html": [
              "<div>\n",
              "<style scoped>\n",
              "    .dataframe tbody tr th:only-of-type {\n",
              "        vertical-align: middle;\n",
              "    }\n",
              "\n",
              "    .dataframe tbody tr th {\n",
              "        vertical-align: top;\n",
              "    }\n",
              "\n",
              "    .dataframe thead th {\n",
              "        text-align: right;\n",
              "    }\n",
              "</style>\n",
              "<table border=\"1\" class=\"dataframe\">\n",
              "  <thead>\n",
              "    <tr style=\"text-align: right;\">\n",
              "      <th></th>\n",
              "      <th>0</th>\n",
              "    </tr>\n",
              "  </thead>\n",
              "  <tbody>\n",
              "    <tr>\n",
              "      <th>rank</th>\n",
              "      <td>214</td>\n",
              "    </tr>\n",
              "    <tr>\n",
              "      <th>finalWorth</th>\n",
              "      <td>214</td>\n",
              "    </tr>\n",
              "    <tr>\n",
              "      <th>personName</th>\n",
              "      <td>2367</td>\n",
              "    </tr>\n",
              "    <tr>\n",
              "      <th>country</th>\n",
              "      <td>63</td>\n",
              "    </tr>\n",
              "    <tr>\n",
              "      <th>city</th>\n",
              "      <td>708</td>\n",
              "    </tr>\n",
              "    <tr>\n",
              "      <th>source</th>\n",
              "      <td>856</td>\n",
              "    </tr>\n",
              "    <tr>\n",
              "      <th>industries</th>\n",
              "      <td>18</td>\n",
              "    </tr>\n",
              "    <tr>\n",
              "      <th>countryOfCitizenship</th>\n",
              "      <td>70</td>\n",
              "    </tr>\n",
              "    <tr>\n",
              "      <th>selfMade</th>\n",
              "      <td>2</td>\n",
              "    </tr>\n",
              "    <tr>\n",
              "      <th>gender</th>\n",
              "      <td>2</td>\n",
              "    </tr>\n",
              "    <tr>\n",
              "      <th>birthDate</th>\n",
              "      <td>1926</td>\n",
              "    </tr>\n",
              "    <tr>\n",
              "      <th>lastName</th>\n",
              "      <td>1614</td>\n",
              "    </tr>\n",
              "    <tr>\n",
              "      <th>firstName</th>\n",
              "      <td>1608</td>\n",
              "    </tr>\n",
              "    <tr>\n",
              "      <th>date</th>\n",
              "      <td>2</td>\n",
              "    </tr>\n",
              "    <tr>\n",
              "      <th>birthYear</th>\n",
              "      <td>76</td>\n",
              "    </tr>\n",
              "    <tr>\n",
              "      <th>birthMonth</th>\n",
              "      <td>12</td>\n",
              "    </tr>\n",
              "    <tr>\n",
              "      <th>birthDay</th>\n",
              "      <td>31</td>\n",
              "    </tr>\n",
              "    <tr>\n",
              "      <th>cpi_country</th>\n",
              "      <td>62</td>\n",
              "    </tr>\n",
              "    <tr>\n",
              "      <th>cpi_change_country</th>\n",
              "      <td>44</td>\n",
              "    </tr>\n",
              "    <tr>\n",
              "      <th>gdp_country</th>\n",
              "      <td>63</td>\n",
              "    </tr>\n",
              "    <tr>\n",
              "      <th>gross_tertiary_education_enrollment</th>\n",
              "      <td>60</td>\n",
              "    </tr>\n",
              "    <tr>\n",
              "      <th>gross_primary_education_enrollment_country</th>\n",
              "      <td>59</td>\n",
              "    </tr>\n",
              "    <tr>\n",
              "      <th>life_expectancy_country</th>\n",
              "      <td>52</td>\n",
              "    </tr>\n",
              "    <tr>\n",
              "      <th>tax_revenue_country_country</th>\n",
              "      <td>55</td>\n",
              "    </tr>\n",
              "    <tr>\n",
              "      <th>total_tax_rate_country</th>\n",
              "      <td>60</td>\n",
              "    </tr>\n",
              "    <tr>\n",
              "      <th>population_country</th>\n",
              "      <td>63</td>\n",
              "    </tr>\n",
              "    <tr>\n",
              "      <th>latitude_country</th>\n",
              "      <td>63</td>\n",
              "    </tr>\n",
              "    <tr>\n",
              "      <th>longitude_country</th>\n",
              "      <td>63</td>\n",
              "    </tr>\n",
              "  </tbody>\n",
              "</table>\n",
              "</div><br><label><b>dtype:</b> int64</label>"
            ]
          },
          "metadata": {},
          "execution_count": 29
        }
      ]
    },
    {
      "cell_type": "code",
      "source": [
        "# industries histogram\n",
        "df['industries'].value_counts().plot(kind='bar')"
      ],
      "metadata": {
        "colab": {
          "base_uri": "https://localhost:8080/",
          "height": 646
        },
        "id": "EmLdTuOWNZrv",
        "outputId": "44a272cd-c639-4886-e9c4-eabac85dfab3"
      },
      "execution_count": 30,
      "outputs": [
        {
          "output_type": "execute_result",
          "data": {
            "text/plain": [
              "<Axes: xlabel='industries'>"
            ]
          },
          "metadata": {},
          "execution_count": 30
        },
        {
          "output_type": "display_data",
          "data": {
            "text/plain": [
              "<Figure size 640x480 with 1 Axes>"
            ],
            "image/png": "[encoded data removed]"
          },
          "metadata": {}
        }
      ]
    },
    {
      "cell_type": "code",
      "source": [
        "# top 10 source histogram\n",
        "top_10 = df['source'].value_counts().head(10)\n",
        "top_10.plot(kind='bar')"
      ],
      "metadata": {
        "colab": {
          "base_uri": "https://localhost:8080/",
          "height": 567
        },
        "id": "UMNWmdqMOVbn",
        "outputId": "99ad1f9a-1f1b-4c7c-ef8f-f65a01d75dcf"
      },
      "execution_count": 31,
      "outputs": [
        {
          "output_type": "execute_result",
          "data": {
            "text/plain": [
              "<Axes: xlabel='source'>"
            ]
          },
          "metadata": {},
          "execution_count": 31
        },
        {
          "output_type": "display_data",
          "data": {
            "text/plain": [
              "<Figure size 640x480 with 1 Axes>"
            ],
            "image/png": "[encoded data removed]"
          },
          "metadata": {}
        }
      ]
    },
    {
      "cell_type": "code",
      "source": [
        "df[['source', 'industries']].head(10)"
      ],
      "metadata": {
        "colab": {
          "base_uri": "https://localhost:8080/",
          "height": 363
        },
        "id": "HdAAkpsDOkEw",
        "outputId": "c0899128-880d-47f5-b3a1-4dec0ee8f365"
      },
      "execution_count": 32,
      "outputs": [
        {
          "output_type": "execute_result",
          "data": {
            "text/plain": [
              "               source             industries\n",
              "0                LVMH       Fashion & Retail\n",
              "1       Tesla, SpaceX             Automotive\n",
              "2              Amazon             Technology\n",
              "3              Oracle             Technology\n",
              "4  Berkshire Hathaway  Finance & Investments\n",
              "5           Microsoft             Technology\n",
              "6        Bloomberg LP  Media & Entertainment\n",
              "7             Telecom                Telecom\n",
              "8         Diversified            Diversified\n",
              "9           Microsoft             Technology"
            ],
            "text/html": [
              "\n",
              "  <div id=\"df-b731ab2a-5092-4aaf-b04c-c382f479393f\" class=\"colab-df-container\">\n",
              "    <div>\n",
              "<style scoped>\n",
              "    .dataframe tbody tr th:only-of-type {\n",
              "        vertical-align: middle;\n",
              "    }\n",
              "\n",
              "    .dataframe tbody tr th {\n",
              "        vertical-align: top;\n",
              "    }\n",
              "\n",
              "    .dataframe thead th {\n",
              "        text-align: right;\n",
              "    }\n",
              "</style>\n",
              "<table border=\"1\" class=\"dataframe\">\n",
              "  <thead>\n",
              "    <tr style=\"text-align: right;\">\n",
              "      <th></th>\n",
              "      <th>source</th>\n",
              "      <th>industries</th>\n",
              "    </tr>\n",
              "  </thead>\n",
              "  <tbody>\n",
              "    <tr>\n",
              "      <th>0</th>\n",
              "      <td>LVMH</td>\n",
              "      <td>Fashion &amp; Retail</td>\n",
              "    </tr>\n",
              "    <tr>\n",
              "      <th>1</th>\n",
              "      <td>Tesla, SpaceX</td>\n",
              "      <td>Automotive</td>\n",
              "    </tr>\n",
              "    <tr>\n",
              "      <th>2</th>\n",
              "      <td>Amazon</td>\n",
              "      <td>Technology</td>\n",
              "    </tr>\n",
              "    <tr>\n",
              "      <th>3</th>\n",
              "      <td>Oracle</td>\n",
              "      <td>Technology</td>\n",
              "    </tr>\n",
              "    <tr>\n",
              "      <th>4</th>\n",
              "      <td>Berkshire Hathaway</td>\n",
              "      <td>Finance &amp; Investments</td>\n",
              "    </tr>\n",
              "    <tr>\n",
              "      <th>5</th>\n",
              "      <td>Microsoft</td>\n",
              "      <td>Technology</td>\n",
              "    </tr>\n",
              "    <tr>\n",
              "      <th>6</th>\n",
              "      <td>Bloomberg LP</td>\n",
              "      <td>Media &amp; Entertainment</td>\n",
              "    </tr>\n",
              "    <tr>\n",
              "      <th>7</th>\n",
              "      <td>Telecom</td>\n",
              "      <td>Telecom</td>\n",
              "    </tr>\n",
              "    <tr>\n",
              "      <th>8</th>\n",
              "      <td>Diversified</td>\n",
              "      <td>Diversified</td>\n",
              "    </tr>\n",
              "    <tr>\n",
              "      <th>9</th>\n",
              "      <td>Microsoft</td>\n",
              "      <td>Technology</td>\n",
              "    </tr>\n",
              "  </tbody>\n",
              "</table>\n",
              "</div>\n",
              "    <div class=\"colab-df-buttons\">\n",
              "\n",
              "  <div class=\"colab-df-container\">\n",
              "    <button class=\"colab-df-convert\" onclick=\"convertToInteractive('df-b731ab2a-5092-4aaf-b04c-c382f479393f')\"\n",
              "            title=\"Convert this dataframe to an interactive table.\"\n",
              "            style=\"display:none;\">\n",
              "\n",
              "  <svg xmlns=\"http://www.w3.org/2000/svg\" height=\"24px\" viewBox=\"0 -960 960 960\">\n",
              "    <path d=\"M120-120v-720h720v720H120Zm60-500h600v-160H180v160Zm220 220h160v-160H400v160Zm0 220h160v-160H400v160ZM180-400h160v-160H180v160Zm440 0h160v-160H620v160ZM180-180h160v-160H180v160Zm440 0h160v-160H620v160Z\"/>\n",
              "  </svg>\n",
              "    </button>\n",
              "\n",
              "  <style>\n",
              "    .colab-df-container {\n",
              "      display:flex;\n",
              "      gap: 12px;\n",
              "    }\n",
              "\n",
              "    .colab-df-convert {\n",
              "      background-color: #E8F0FE;\n",
              "      border: none;\n",
              "      border-radius: 50%;\n",
              "      cursor: pointer;\n",
              "      display: none;\n",
              "      fill: #1967D2;\n",
              "      height: 32px;\n",
              "      padding: 0 0 0 0;\n",
              "      width: 32px;\n",
              "    }\n",
              "\n",
              "    .colab-df-convert:hover {\n",
              "      background-color: #E2EBFA;\n",
              "      box-shadow: 0px 1px 2px rgba(60, 64, 67, 0.3), 0px 1px 3px 1px rgba(60, 64, 67, 0.15);\n",
              "      fill: #174EA6;\n",
              "    }\n",
              "\n",
              "    .colab-df-buttons div {\n",
              "      margin-bottom: 4px;\n",
              "    }\n",
              "\n",
              "    [theme=dark] .colab-df-convert {\n",
              "      background-color: #3B4455;\n",
              "      fill: #D2E3FC;\n",
              "    }\n",
              "\n",
              "    [theme=dark] .colab-df-convert:hover {\n",
              "      background-color: #434B5C;\n",
              "      box-shadow: 0px 1px 3px 1px rgba(0, 0, 0, 0.15);\n",
              "      filter: drop-shadow(0px 1px 2px rgba(0, 0, 0, 0.3));\n",
              "      fill: #FFFFFF;\n",
              "    }\n",
              "  </style>\n",
              "\n",
              "    <script>\n",
              "      const buttonEl =\n",
              "        document.querySelector('#df-b731ab2a-5092-4aaf-b04c-c382f479393f button.colab-df-convert');\n",
              "      buttonEl.style.display =\n",
              "        google.colab.kernel.accessAllowed ? 'block' : 'none';\n",
              "\n",
              "      async function convertToInteractive(key) {\n",
              "        const element = document.querySelector('#df-b731ab2a-5092-4aaf-b04c-c382f479393f');\n",
              "        const dataTable =\n",
              "          await google.colab.kernel.invokeFunction('convertToInteractive',\n",
              "                                                    [key], {});\n",
              "        if (!dataTable) return;\n",
              "\n",
              "        const docLinkHtml = 'Like what you see? Visit the ' +\n",
              "          '<a target=\"_blank\" href=https://colab.research.google.com/notebooks/data_table.ipynb>data table notebook</a>'\n",
              "          + ' to learn more about interactive tables.';\n",
              "        element.innerHTML = '';\n",
              "        dataTable['output_type'] = 'display_data';\n",
              "        await google.colab.output.renderOutput(dataTable, element);\n",
              "        const docLink = document.createElement('div');\n",
              "        docLink.innerHTML = docLinkHtml;\n",
              "        element.appendChild(docLink);\n",
              "      }\n",
              "    </script>\n",
              "  </div>\n",
              "\n",
              "\n",
              "<div id=\"df-cef6aed6-30b5-4db1-aa01-a2cb9daf3a43\">\n",
              "  <button class=\"colab-df-quickchart\" onclick=\"quickchart('df-cef6aed6-30b5-4db1-aa01-a2cb9daf3a43')\"\n",
              "            title=\"Suggest charts\"\n",
              "            style=\"display:none;\">\n",
              "\n",
              "<svg xmlns=\"http://www.w3.org/2000/svg\" height=\"24px\"viewBox=\"0 0 24 24\"\n",
              "     width=\"24px\">\n",
              "    <g>\n",
              "        <path d=\"M19 3H5c-1.1 0-2 .9-2 2v14c0 1.1.9 2 2 2h14c1.1 0 2-.9 2-2V5c0-1.1-.9-2-2-2zM9 17H7v-7h2v7zm4 0h-2V7h2v10zm4 0h-2v-4h2v4z\"/>\n",
              "    </g>\n",
              "</svg>\n",
              "  </button>\n",
              "\n",
              "<style>\n",
              "  .colab-df-quickchart {\n",
              "      --bg-color: #E8F0FE;\n",
              "      --fill-color: #1967D2;\n",
              "      --hover-bg-color: #E2EBFA;\n",
              "      --hover-fill-color: #174EA6;\n",
              "      --disabled-fill-color: #AAA;\n",
              "      --disabled-bg-color: #DDD;\n",
              "  }\n",
              "\n",
              "  [theme=dark] .colab-df-quickchart {\n",
              "      --bg-color: #3B4455;\n",
              "      --fill-color: #D2E3FC;\n",
              "      --hover-bg-color: #434B5C;\n",
              "      --hover-fill-color: #FFFFFF;\n",
              "      --disabled-bg-color: #3B4455;\n",
              "      --disabled-fill-color: #666;\n",
              "  }\n",
              "\n",
              "  .colab-df-quickchart {\n",
              "    background-color: var(--bg-color);\n",
              "    border: none;\n",
              "    border-radius: 50%;\n",
              "    cursor: pointer;\n",
              "    display: none;\n",
              "    fill: var(--fill-color);\n",
              "    height: 32px;\n",
              "    padding: 0;\n",
              "    width: 32px;\n",
              "  }\n",
              "\n",
              "  .colab-df-quickchart:hover {\n",
              "    background-color: var(--hover-bg-color);\n",
              "    box-shadow: 0 1px 2px rgba(60, 64, 67, 0.3), 0 1px 3px 1px rgba(60, 64, 67, 0.15);\n",
              "    fill: var(--button-hover-fill-color);\n",
              "  }\n",
              "\n",
              "  .colab-df-quickchart-complete:disabled,\n",
              "  .colab-df-quickchart-complete:disabled:hover {\n",
              "    background-color: var(--disabled-bg-color);\n",
              "    fill: var(--disabled-fill-color);\n",
              "    box-shadow: none;\n",
              "  }\n",
              "\n",
              "  .colab-df-spinner {\n",
              "    border: 2px solid var(--fill-color);\n",
              "    border-color: transparent;\n",
              "    border-bottom-color: var(--fill-color);\n",
              "    animation:\n",
              "      spin 1s steps(1) infinite;\n",
              "  }\n",
              "\n",
              "  @keyframes spin {\n",
              "    0% {\n",
              "      border-color: transparent;\n",
              "      border-bottom-color: var(--fill-color);\n",
              "      border-left-color: var(--fill-color);\n",
              "    }\n",
              "    20% {\n",
              "      border-color: transparent;\n",
              "      border-left-color: var(--fill-color);\n",
              "      border-top-color: var(--fill-color);\n",
              "    }\n",
              "    30% {\n",
              "      border-color: transparent;\n",
              "      border-left-color: var(--fill-color);\n",
              "      border-top-color: var(--fill-color);\n",
              "      border-right-color: var(--fill-color);\n",
              "    }\n",
              "    40% {\n",
              "      border-color: transparent;\n",
              "      border-right-color: var(--fill-color);\n",
              "      border-top-color: var(--fill-color);\n",
              "    }\n",
              "    60% {\n",
              "      border-color: transparent;\n",
              "      border-right-color: var(--fill-color);\n",
              "    }\n",
              "    80% {\n",
              "      border-color: transparent;\n",
              "      border-right-color: var(--fill-color);\n",
              "      border-bottom-color: var(--fill-color);\n",
              "    }\n",
              "    90% {\n",
              "      border-color: transparent;\n",
              "      border-bottom-color: var(--fill-color);\n",
              "    }\n",
              "  }\n",
              "</style>\n",
              "\n",
              "  <script>\n",
              "    async function quickchart(key) {\n",
              "      const quickchartButtonEl =\n",
              "        document.querySelector('#' + key + ' button');\n",
              "      quickchartButtonEl.disabled = true;  // To prevent multiple clicks.\n",
              "      quickchartButtonEl.classList.add('colab-df-spinner');\n",
              "      try {\n",
              "        const charts = await google.colab.kernel.invokeFunction(\n",
              "            'suggestCharts', [key], {});\n",
              "      } catch (error) {\n",
              "        console.error('Error during call to suggestCharts:', error);\n",
              "      }\n",
              "      quickchartButtonEl.classList.remove('colab-df-spinner');\n",
              "      quickchartButtonEl.classList.add('colab-df-quickchart-complete');\n",
              "    }\n",
              "    (() => {\n",
              "      let quickchartButtonEl =\n",
              "        document.querySelector('#df-cef6aed6-30b5-4db1-aa01-a2cb9daf3a43 button');\n",
              "      quickchartButtonEl.style.display =\n",
              "        google.colab.kernel.accessAllowed ? 'block' : 'none';\n",
              "    })();\n",
              "  </script>\n",
              "</div>\n",
              "\n",
              "    </div>\n",
              "  </div>\n"
            ],
            "application/vnd.google.colaboratory.intrinsic+json": {
              "type": "dataframe",
              "summary": "{\n  \"name\": \"df[['source', 'industries']]\",\n  \"rows\": 10,\n  \"fields\": [\n    {\n      \"column\": \"source\",\n      \"properties\": {\n        \"dtype\": \"string\",\n        \"num_unique_values\": 9,\n        \"samples\": [\n          \"Telecom\",\n          \"Tesla, SpaceX\",\n          \"Microsoft\"\n        ],\n        \"semantic_type\": \"\",\n        \"description\": \"\"\n      }\n    },\n    {\n      \"column\": \"industries\",\n      \"properties\": {\n        \"dtype\": \"string\",\n        \"num_unique_values\": 7,\n        \"samples\": [\n          \"Fashion & Retail\",\n          \"Automotive\",\n          \"Telecom\"\n        ],\n        \"semantic_type\": \"\",\n        \"description\": \"\"\n      }\n    }\n  ]\n}"
            }
          },
          "metadata": {},
          "execution_count": 32
        }
      ]
    },
    {
      "cell_type": "code",
      "source": [
        "# drop the 'source' column, high level of similarity to the 'industries' column\n",
        "df.drop('source', axis=1, inplace=True)"
      ],
      "metadata": {
        "id": "QR8tNZymPhVH"
      },
      "execution_count": 33,
      "outputs": []
    },
    {
      "cell_type": "code",
      "source": [
        "df.info()"
      ],
      "metadata": {
        "colab": {
          "base_uri": "https://localhost:8080/"
        },
        "id": "tg84vG9IQL6g",
        "outputId": "7b99a064-90a8-4327-b6da-0db9814e002a"
      },
      "execution_count": 34,
      "outputs": [
        {
          "output_type": "stream",
          "name": "stdout",
          "text": [
            "<class 'pandas.core.frame.DataFrame'>\n",
            "Index: 2369 entries, 0 to 2639\n",
            "Data columns (total 27 columns):\n",
            " #   Column                                      Non-Null Count  Dtype  \n",
            "---  ------                                      --------------  -----  \n",
            " 0   rank                                        2369 non-null   int64  \n",
            " 1   finalWorth                                  2369 non-null   int64  \n",
            " 2   personName                                  2369 non-null   object \n",
            " 3   country                                     2369 non-null   object \n",
            " 4   city                                        2369 non-null   object \n",
            " 5   industries                                  2369 non-null   object \n",
            " 6   countryOfCitizenship                        2369 non-null   object \n",
            " 7   selfMade                                    2369 non-null   int64  \n",
            " 8   gender                                      2369 non-null   object \n",
            " 9   birthDate                                   2369 non-null   object \n",
            " 10  lastName                                    2369 non-null   object \n",
            " 11  firstName                                   2369 non-null   object \n",
            " 12  date                                        2369 non-null   object \n",
            " 13  birthYear                                   2369 non-null   float64\n",
            " 14  birthMonth                                  2369 non-null   float64\n",
            " 15  birthDay                                    2369 non-null   float64\n",
            " 16  cpi_country                                 2369 non-null   float64\n",
            " 17  cpi_change_country                          2369 non-null   float64\n",
            " 18  gdp_country                                 2369 non-null   float64\n",
            " 19  gross_tertiary_education_enrollment         2369 non-null   float64\n",
            " 20  gross_primary_education_enrollment_country  2369 non-null   float64\n",
            " 21  life_expectancy_country                     2369 non-null   float64\n",
            " 22  tax_revenue_country_country                 2369 non-null   float64\n",
            " 23  total_tax_rate_country                      2369 non-null   float64\n",
            " 24  population_country                          2369 non-null   float64\n",
            " 25  latitude_country                            2369 non-null   float64\n",
            " 26  longitude_country                           2369 non-null   float64\n",
            "dtypes: float64(14), int64(3), object(10)\n",
            "memory usage: 518.2+ KB\n"
          ]
        }
      ]
    },
    {
      "cell_type": "code",
      "source": [
        "df['selfMade'].value_counts()"
      ],
      "metadata": {
        "colab": {
          "base_uri": "https://localhost:8080/",
          "height": 178
        },
        "id": "3Wh_ewofQN-n",
        "outputId": "97eb32cc-368a-4a54-b07c-84c7ac9a1688"
      },
      "execution_count": 35,
      "outputs": [
        {
          "output_type": "execute_result",
          "data": {
            "text/plain": [
              "selfMade\n",
              "1    1666\n",
              "0     703\n",
              "Name: count, dtype: int64"
            ],
            "text/html": [
              "<div>\n",
              "<style scoped>\n",
              "    .dataframe tbody tr th:only-of-type {\n",
              "        vertical-align: middle;\n",
              "    }\n",
              "\n",
              "    .dataframe tbody tr th {\n",
              "        vertical-align: top;\n",
              "    }\n",
              "\n",
              "    .dataframe thead th {\n",
              "        text-align: right;\n",
              "    }\n",
              "</style>\n",
              "<table border=\"1\" class=\"dataframe\">\n",
              "  <thead>\n",
              "    <tr style=\"text-align: right;\">\n",
              "      <th></th>\n",
              "      <th>count</th>\n",
              "    </tr>\n",
              "    <tr>\n",
              "      <th>selfMade</th>\n",
              "      <th></th>\n",
              "    </tr>\n",
              "  </thead>\n",
              "  <tbody>\n",
              "    <tr>\n",
              "      <th>1</th>\n",
              "      <td>1666</td>\n",
              "    </tr>\n",
              "    <tr>\n",
              "      <th>0</th>\n",
              "      <td>703</td>\n",
              "    </tr>\n",
              "  </tbody>\n",
              "</table>\n",
              "</div><br><label><b>dtype:</b> int64</label>"
            ]
          },
          "metadata": {},
          "execution_count": 35
        }
      ]
    },
    {
      "cell_type": "code",
      "source": [
        "# drop columns relatable to birth (i only need 'birthYear')\n",
        "df.drop(['birthDay', 'birthMonth', 'birthDate'], axis=1, inplace=True)"
      ],
      "metadata": {
        "id": "dUJUIs_zQaNH"
      },
      "execution_count": 36,
      "outputs": []
    },
    {
      "cell_type": "code",
      "source": [
        "df['date'].unique()"
      ],
      "metadata": {
        "colab": {
          "base_uri": "https://localhost:8080/"
        },
        "id": "WO0PwyRxAKuS",
        "outputId": "23cabd48-197c-43fa-d53d-76995577fcbc"
      },
      "execution_count": 37,
      "outputs": [
        {
          "output_type": "execute_result",
          "data": {
            "text/plain": [
              "array(['4/4/2023 5:01', '4/4/2023 9:01'], dtype=object)"
            ]
          },
          "metadata": {},
          "execution_count": 37
        }
      ]
    },
    {
      "cell_type": "code",
      "source": [
        "# drop column 'date' (only shows the date of data collection)\n",
        "df.drop('date', axis=1, inplace=True)"
      ],
      "metadata": {
        "id": "jOHOTMgTAhg4"
      },
      "execution_count": 38,
      "outputs": []
    },
    {
      "cell_type": "code",
      "source": [
        "df.info()"
      ],
      "metadata": {
        "colab": {
          "base_uri": "https://localhost:8080/"
        },
        "id": "XKJHTo7HArvQ",
        "outputId": "a37cd8d2-040e-4990-e31c-fac2b949c77d"
      },
      "execution_count": 39,
      "outputs": [
        {
          "output_type": "stream",
          "name": "stdout",
          "text": [
            "<class 'pandas.core.frame.DataFrame'>\n",
            "Index: 2369 entries, 0 to 2639\n",
            "Data columns (total 23 columns):\n",
            " #   Column                                      Non-Null Count  Dtype  \n",
            "---  ------                                      --------------  -----  \n",
            " 0   rank                                        2369 non-null   int64  \n",
            " 1   finalWorth                                  2369 non-null   int64  \n",
            " 2   personName                                  2369 non-null   object \n",
            " 3   country                                     2369 non-null   object \n",
            " 4   city                                        2369 non-null   object \n",
            " 5   industries                                  2369 non-null   object \n",
            " 6   countryOfCitizenship                        2369 non-null   object \n",
            " 7   selfMade                                    2369 non-null   int64  \n",
            " 8   gender                                      2369 non-null   object \n",
            " 9   lastName                                    2369 non-null   object \n",
            " 10  firstName                                   2369 non-null   object \n",
            " 11  birthYear                                   2369 non-null   float64\n",
            " 12  cpi_country                                 2369 non-null   float64\n",
            " 13  cpi_change_country                          2369 non-null   float64\n",
            " 14  gdp_country                                 2369 non-null   float64\n",
            " 15  gross_tertiary_education_enrollment         2369 non-null   float64\n",
            " 16  gross_primary_education_enrollment_country  2369 non-null   float64\n",
            " 17  life_expectancy_country                     2369 non-null   float64\n",
            " 18  tax_revenue_country_country                 2369 non-null   float64\n",
            " 19  total_tax_rate_country                      2369 non-null   float64\n",
            " 20  population_country                          2369 non-null   float64\n",
            " 21  latitude_country                            2369 non-null   float64\n",
            " 22  longitude_country                           2369 non-null   float64\n",
            "dtypes: float64(12), int64(3), object(8)\n",
            "memory usage: 444.2+ KB\n"
          ]
        }
      ]
    },
    {
      "cell_type": "code",
      "source": [
        "# gender distribution plot\n",
        "gender_counts = df['gender'].value_counts(normalize=True) * 100\n",
        "\n",
        "sns.barplot(x=gender_counts.index, y=gender_counts)\n",
        "\n",
        "plt.title('Gender Distribution (%)')\n",
        "plt.xlabel('Gender')\n",
        "plt.ylabel('%')\n",
        "\n",
        "plt.show()"
      ],
      "metadata": {
        "colab": {
          "base_uri": "https://localhost:8080/",
          "height": 472
        },
        "id": "bIPW8R7ZAuPo",
        "outputId": "448a3589-dd2f-4a68-a8c5-53f394528d65"
      },
      "execution_count": 40,
      "outputs": [
        {
          "output_type": "display_data",
          "data": {
            "text/plain": [
              "<Figure size 640x480 with 1 Axes>"
            ],
            "image/png": "[encoded data removed]"
          },
          "metadata": {}
        }
      ]
    },
    {
      "cell_type": "code",
      "source": [
        "df['countryOfCitizenship'].unique()"
      ],
      "metadata": {
        "colab": {
          "base_uri": "https://localhost:8080/"
        },
        "id": "SWQ0LcyjDCQO",
        "outputId": "f8bb1d26-16fc-4563-c746-c5fac7ac47de"
      },
      "execution_count": 41,
      "outputs": [
        {
          "output_type": "execute_result",
          "data": {
            "text/plain": [
              "array(['France', 'United States', 'Mexico', 'India', 'Spain', 'China',\n",
              "       'Canada', 'Germany', 'Italy', 'Austria', 'Hong Kong', 'Japan',\n",
              "       'Switzerland', 'Australia', 'Indonesia', 'Russia', 'Chile',\n",
              "       'United Kingdom', 'Brazil', 'Czech Republic', 'Singapore',\n",
              "       'Sweden', 'Thailand', 'Netherlands', 'Nigeria', 'Israel', 'Cyprus',\n",
              "       'United Arab Emirates', 'South Africa', 'Malaysia', 'New Zealand',\n",
              "       'Philippines', 'South Korea', 'Norway', 'Egypt', 'Denmark',\n",
              "       'Ireland', 'Colombia', 'Poland', 'Taiwan', 'Ukraine', 'Turkey',\n",
              "       'Georgia', 'Portugal', 'Kazakhstan', 'Algeria', 'Venezuela',\n",
              "       'Vietnam', 'Finland', 'Belgium', 'Greece', 'Argentina', 'Lebanon',\n",
              "       'Oman', 'Iceland', 'Monaco', 'Bulgaria', 'Romania', 'Zimbabwe',\n",
              "       'Qatar', 'Nepal', 'Slovakia', 'Morocco', 'Hungary', 'Tanzania',\n",
              "       'Peru', 'Macau', 'Estonia', 'Armenia', 'Bangladesh'], dtype=object)"
            ]
          },
          "metadata": {},
          "execution_count": 41
        }
      ]
    },
    {
      "cell_type": "code",
      "source": [
        "# top 10 countries (Citizenship) plot\n",
        "top_10 = df[['countryOfCitizenship', 'country']].value_counts().head(10)\n",
        "top_10.plot(kind='bar')"
      ],
      "metadata": {
        "colab": {
          "base_uri": "https://localhost:8080/",
          "height": 660
        },
        "id": "0q07I-GcBV2Z",
        "outputId": "426598e1-2ec1-47e0-9161-5ec602e32031"
      },
      "execution_count": 42,
      "outputs": [
        {
          "output_type": "execute_result",
          "data": {
            "text/plain": [
              "<Axes: xlabel='countryOfCitizenship,country'>"
            ]
          },
          "metadata": {},
          "execution_count": 42
        },
        {
          "output_type": "display_data",
          "data": {
            "text/plain": [
              "<Figure size 640x480 with 1 Axes>"
            ],
            "image/png": "[encoded data removed]"
          },
          "metadata": {}
        }
      ]
    },
    {
      "cell_type": "code",
      "source": [
        "# count of billionaires whose still living at country of citizenship\n",
        "count = (df['country'] != df['countryOfCitizenship']).sum()\n",
        "print(count)"
      ],
      "metadata": {
        "colab": {
          "base_uri": "https://localhost:8080/"
        },
        "id": "f7ejUyoPEys5",
        "outputId": "1c803fb0-f831-443d-9c83-ffcdf967cf1c"
      },
      "execution_count": 43,
      "outputs": [
        {
          "output_type": "stream",
          "name": "stdout",
          "text": [
            "220\n"
          ]
        }
      ]
    },
    {
      "cell_type": "code",
      "source": [
        "df.info()"
      ],
      "metadata": {
        "id": "r8ericehCeD6",
        "outputId": "6de0158e-e810-4a28-c8a0-5869bd09c689",
        "colab": {
          "base_uri": "https://localhost:8080/"
        }
      },
      "execution_count": 44,
      "outputs": [
        {
          "output_type": "stream",
          "name": "stdout",
          "text": [
            "<class 'pandas.core.frame.DataFrame'>\n",
            "Index: 2369 entries, 0 to 2639\n",
            "Data columns (total 23 columns):\n",
            " #   Column                                      Non-Null Count  Dtype  \n",
            "---  ------                                      --------------  -----  \n",
            " 0   rank                                        2369 non-null   int64  \n",
            " 1   finalWorth                                  2369 non-null   int64  \n",
            " 2   personName                                  2369 non-null   object \n",
            " 3   country                                     2369 non-null   object \n",
            " 4   city                                        2369 non-null   object \n",
            " 5   industries                                  2369 non-null   object \n",
            " 6   countryOfCitizenship                        2369 non-null   object \n",
            " 7   selfMade                                    2369 non-null   int64  \n",
            " 8   gender                                      2369 non-null   object \n",
            " 9   lastName                                    2369 non-null   object \n",
            " 10  firstName                                   2369 non-null   object \n",
            " 11  birthYear                                   2369 non-null   float64\n",
            " 12  cpi_country                                 2369 non-null   float64\n",
            " 13  cpi_change_country                          2369 non-null   float64\n",
            " 14  gdp_country                                 2369 non-null   float64\n",
            " 15  gross_tertiary_education_enrollment         2369 non-null   float64\n",
            " 16  gross_primary_education_enrollment_country  2369 non-null   float64\n",
            " 17  life_expectancy_country                     2369 non-null   float64\n",
            " 18  tax_revenue_country_country                 2369 non-null   float64\n",
            " 19  total_tax_rate_country                      2369 non-null   float64\n",
            " 20  population_country                          2369 non-null   float64\n",
            " 21  latitude_country                            2369 non-null   float64\n",
            " 22  longitude_country                           2369 non-null   float64\n",
            "dtypes: float64(12), int64(3), object(8)\n",
            "memory usage: 444.2+ KB\n"
          ]
        }
      ]
    },
    {
      "cell_type": "code",
      "source": [
        "# count of billionaires whose have the same last name\n",
        "count = 0\n",
        "last_names = df.lastName.values  # Get all last names as a NumPy array\n",
        "\n",
        "for i in range(len(last_names) - 1):  # Iterate until the second-to-last element\n",
        "    if last_names[i] == last_names[i + 1]:  # Compare current with the next\n",
        "        count += 1\n",
        "\n",
        "print(count)"
      ],
      "metadata": {
        "id": "AUeiPgE3Cfu5",
        "colab": {
          "base_uri": "https://localhost:8080/"
        },
        "outputId": "df713f63-4a8d-4328-f46d-04e4cf7b9d99"
      },
      "execution_count": 45,
      "outputs": [
        {
          "output_type": "stream",
          "name": "stdout",
          "text": [
            "181\n"
          ]
        }
      ]
    }
  ]
}